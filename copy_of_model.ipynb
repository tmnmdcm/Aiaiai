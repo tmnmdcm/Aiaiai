{
  "cells": [
    {
      "cell_type": "markdown",
      "metadata": {
        "id": "view-in-github",
        "colab_type": "text"
      },
      "source": [
        "<a href=\"https://colab.research.google.com/github/tmnmdcm/Aiaiai/blob/main/copy_of_model.ipynb\" target=\"_parent\"><img src=\"https://colab.research.google.com/assets/colab-badge.svg\" alt=\"Open In Colab\"/></a>"
      ]
    },
    {
      "cell_type": "code",
      "execution_count": 1,
      "metadata": {
        "collapsed": true,
        "pycharm": {
          "name": "#%%\n"
        },
        "id": "Y2nY9SW0InpU"
      },
      "outputs": [],
      "source": [
        "import tensorflow as tf\n",
        "from tensorflow import keras\n",
        "from keras import datasets, layers, models\n",
        "import matplotlib.pyplot as plt\n",
        "import cv2\n",
        "import numpy as np\n",
        "import os\n",
        "import shutil"
      ]
    },
    {
      "cell_type": "code",
      "source": [
        "from google.colab import drive\n",
        "drive.mount('/content/drive')"
      ],
      "metadata": {
        "colab": {
          "base_uri": "https://localhost:8080/"
        },
        "id": "ayhEONGeZgs5",
        "outputId": "8b502261-ca50-4ed5-ce17-5615ab934515"
      },
      "execution_count": 2,
      "outputs": [
        {
          "output_type": "stream",
          "name": "stdout",
          "text": [
            "Drive already mounted at /content/drive; to attempt to forcibly remount, call drive.mount(\"/content/drive\", force_remount=True).\n"
          ]
        }
      ]
    },
    {
      "cell_type": "code",
      "source": [
        "shutil.unpack_archive('/content/drive/MyDrive/NordTank586x371.zip', '/content/dataset')"
      ],
      "metadata": {
        "id": "wW0l_5LOI5Sj"
      },
      "execution_count": 3,
      "outputs": []
    },
    {
      "cell_type": "code",
      "execution_count": 4,
      "outputs": [],
      "source": [
        "# Define paths\n",
        "drive_path = \"/content/\"\n",
        "train_image_path = drive_path + \"dataset/NordTank586x371/Train/images\"\n",
        "test_image_path = drive_path + \"dataset/NordTank586x371/Test/images\"\n",
        "train_label_path = drive_path + \"dataset/NordTank586x371/Train/labels\"\n",
        "test_label_path = drive_path + \"dataset/NordTank586x371/Test/labels\""
      ],
      "metadata": {
        "pycharm": {
          "name": "#%%\n"
        },
        "id": "qIZlRAEQInpW"
      }
    },
    {
      "cell_type": "code",
      "execution_count": 5,
      "outputs": [],
      "source": [
        "image_path = drive_path + \"dataset/NordTank586x371/Train/images/DJI_0004_03_07.png\"\n",
        "image = cv2.imread(image_path)\n",
        "\n",
        "image_shape = image.shape\n",
        "\n",
        "# image_height, image_width, num_channels = image_shape\n",
        "\n",
        "image_height, image_width, num_channels = (128, 128, 3)"
      ],
      "metadata": {
        "pycharm": {
          "name": "#%%\n"
        },
        "id": "u50YEmiWInpW"
      }
    },
    {
      "cell_type": "code",
      "execution_count": 6,
      "outputs": [],
      "source": [
        "class_names = [\"Damage/Dirt\", \"No Damage/Dirt\"]\n",
        "\n",
        "train_limit = 800\n",
        "test_limit = 200\n",
        "\n",
        "# if not train_limit:\n",
        "n_train = min(len(os.listdir(train_image_path)), train_limit)\n",
        "n_test = min(len(os.listdir(test_image_path)), test_limit)\n"
      ],
      "metadata": {
        "pycharm": {
          "name": "#%%\n"
        },
        "id": "EVj8855zInpW"
      }
    },
    {
      "cell_type": "code",
      "source": [
        "def _generate_batch_train_images(start_index, end_index):\n",
        "    n = end_index - start_index + 1\n",
        "    train_images = np.zeros(n, dtype=(np.float32, (image_height, image_width, num_channels)))\n",
        "    train_labels = np.zeros(n)\n",
        "\n",
        "\n",
        "    # Add train images and labels into array\n",
        "    for idx, image_path in enumerate(os.listdir(train_image_path)[:train_limit][start_index:end_index]):\n",
        "        image = cv2.imread(os.path.join(train_image_path, image_path))\n",
        "        image = cv2.resize(image, (image_height, image_width))\n",
        "        image = image / 255.0  # Scale pixel values to [0, 1]\n",
        "        train_images[idx] = image\n",
        "\n",
        "        label_path = image_path[:-3] + \"txt\"\n",
        "\n",
        "        with open(os.path.join(train_label_path, label_path), 'r') as f:\n",
        "            train_labels[idx] = (f.read().strip() == class_names[1])\n",
        "\n",
        "    return train_images, train_labels\n",
        "\n",
        "def _generate_batch_test_images(start_index, end_index):\n",
        "    n = end_index - start_index + 1\n",
        "    test_images = np.zeros(n, dtype=(np.float32, (image_height, image_width, num_channels)))\n",
        "    test_labels = np.zeros(n)\n",
        "\n",
        "\n",
        "    # Add train images and labels into array\n",
        "    for idx, image_path in enumerate(os.listdir(test_image_path)[:test_limit][start_index:end_index]):\n",
        "        image = cv2.imread(os.path.join(test_image_path, image_path))\n",
        "        image = cv2.resize(image, (image_height, image_width))\n",
        "        image = image / 255.0  # Scale pixel values to [0, 1]\n",
        "        test_images[idx] = image\n",
        "\n",
        "        label_path = image_path[:-3] + \"txt\"\n",
        "\n",
        "        with open(os.path.join(test_label_path, label_path), 'r') as f:\n",
        "            test_labels[idx] = (f.read().strip() == class_names[1])\n",
        "\n",
        "    return test_images, test_labels"
      ],
      "metadata": {
        "id": "C5G5AVUGbc1d"
      },
      "execution_count": 7,
      "outputs": []
    },
    {
      "cell_type": "code",
      "source": [
        "# Batch generator for training images\n",
        "\n",
        "\n",
        "class batch_train(batch_size):\n",
        "    num_samples = n_train\n",
        "\n",
        "    indices = np.arange(num_samples)\n",
        "\n",
        "    for start_index in range(0, num_samples, batch_size):\n",
        "        end_index = min(start_index + batch_size, num_samples)\n",
        "        # batch_indices = indices[start_index:end_index]\n",
        "\n",
        "        yield _generate_batch_train_images(start_index, end_index)\n",
        "\n",
        "\n",
        "def batch_test(batch_size):\n",
        "    num_samples = n_test\n",
        "\n",
        "    indices = np.arange(num_samples)\n",
        "\n",
        "    for start_index in range(0, num_samples, batch_size):\n",
        "        end_index = min(start_index + batch_size, num_samples)\n",
        "        # batch_indices = indices[start_index:end_index]\n",
        "\n",
        "        yield _generate_batch_test_images(start_index, end_index)\n",
        "\n"
      ],
      "metadata": {
        "id": "jS9MsVMIahR-"
      },
      "execution_count": 8,
      "outputs": []
    },
    {
      "cell_type": "code",
      "execution_count": 9,
      "outputs": [],
      "source": [
        "# 0 -> No damage\n",
        "# 1 -> Dirt/Damage"
      ],
      "metadata": {
        "pycharm": {
          "name": "#%%\n"
        },
        "id": "QUU5pto6InpX"
      }
    },
    {
      "cell_type": "code",
      "execution_count": 10,
      "outputs": [],
      "source": [
        "# Define the model\n",
        "model = models.Sequential()\n",
        "model.add(layers.Conv2D(128, (3, 3), activation='relu', input_shape=(image_width, image_height, 3)))\n",
        "model.add(layers.MaxPooling2D((2, 2)))\n",
        "model.add(layers.Conv2D(128, (3, 3), activation='relu'))\n",
        "model.add(layers.MaxPooling2D((2, 2)))\n",
        "model.add(layers.Conv2D(64, (3, 3), activation='relu'))\n",
        "\n",
        "model.add(layers.Flatten())\n",
        "model.add(layers.Dense(32, activation='relu'))\n",
        "model.add(layers.Dense(1, activation='sigmoid'))  # Use a single unit with sigmoid activation for binary classification\n",
        "\n",
        "model.compile(optimizer='adam',\n",
        "              loss=tf.keras.losses.BinaryCrossentropy(),\n",
        "              metrics=['accuracy', 'Precision', 'Recall'])"
      ],
      "metadata": {
        "pycharm": {
          "name": "#%%\n"
        },
        "id": "aAEU2x88InpY"
      }
    },
    {
      "cell_type": "code",
      "source": [
        "class EarlyStopping(tf.keras.callbacks.Callback):\n",
        "  def on_epoch_end(self, epoch, logs={}):\n",
        "    '''\n",
        "    Stops training when 95% accuracy is reached\n",
        "    '''\n",
        "    # Get the current accuracy and check if it is above 95%\n",
        "    if(logs.get('accuracy') > 0.95):\n",
        "\n",
        "      # Stop training if condition is met\n",
        "      print(\"\\nThreshold reached. Stopping training...\")\n",
        "      self.model.stop_training = True\n",
        "\n",
        "# Let's instantiate our ES class\n",
        "early_stopping = EarlyStopping()"
      ],
      "metadata": {
        "id": "f8ZCZ4xwUGjx"
      },
      "execution_count": 11,
      "outputs": []
    },
    {
      "cell_type": "code",
      "source": [
        "batch_size = 32\n",
        "\n",
        "train_batch_generator = batch_train(batch_size)\n",
        "test_batch_generator = batch_test(batch_size)\n",
        "\n",
        "for i in range(n_train // batch_size):\n",
        "  n = next(train_batch_generator)\n",
        "  print(n[0].shape)\n",
        "\n",
        "\n"
      ],
      "metadata": {
        "colab": {
          "base_uri": "https://localhost:8080/",
          "height": 669
        },
        "id": "zc2VHREa41vr",
        "outputId": "9e0c1a26-1291-4d18-f462-dc268613afe7"
      },
      "execution_count": 17,
      "outputs": [
        {
          "output_type": "stream",
          "name": "stdout",
          "text": [
            "(33, 128, 128, 3)\n",
            "(33, 128, 128, 3)\n",
            "(33, 128, 128, 3)\n",
            "(33, 128, 128, 3)\n",
            "(33, 128, 128, 3)\n",
            "(33, 128, 128, 3)\n",
            "(33, 128, 128, 3)\n",
            "(33, 128, 128, 3)\n",
            "(33, 128, 128, 3)\n",
            "(33, 128, 128, 3)\n",
            "(33, 128, 128, 3)\n",
            "(33, 128, 128, 3)\n",
            "(33, 128, 128, 3)\n",
            "(33, 128, 128, 3)\n",
            "(33, 128, 128, 3)\n",
            "(33, 128, 128, 3)\n",
            "(33, 128, 128, 3)\n",
            "(33, 128, 128, 3)\n",
            "(33, 128, 128, 3)\n",
            "(33, 128, 128, 3)\n",
            "(33, 128, 128, 3)\n",
            "(33, 128, 128, 3)\n",
            "(33, 128, 128, 3)\n",
            "(33, 128, 128, 3)\n",
            "(33, 128, 128, 3)\n"
          ]
        },
        {
          "output_type": "error",
          "ename": "StopIteration",
          "evalue": "ignored",
          "traceback": [
            "\u001b[0;31m---------------------------------------------------------------------------\u001b[0m",
            "\u001b[0;31mStopIteration\u001b[0m                             Traceback (most recent call last)",
            "\u001b[0;32m<ipython-input-17-eec18b75b4b4>\u001b[0m in \u001b[0;36m<cell line: 6>\u001b[0;34m()\u001b[0m\n\u001b[1;32m      5\u001b[0m \u001b[0;34m\u001b[0m\u001b[0m\n\u001b[1;32m      6\u001b[0m \u001b[0;32mfor\u001b[0m \u001b[0mi\u001b[0m \u001b[0;32min\u001b[0m \u001b[0mrange\u001b[0m\u001b[0;34m(\u001b[0m\u001b[0mn_train\u001b[0m \u001b[0;34m//\u001b[0m \u001b[0mbatch_size\u001b[0m \u001b[0;34m+\u001b[0m \u001b[0;36m1\u001b[0m\u001b[0;34m)\u001b[0m\u001b[0;34m:\u001b[0m\u001b[0;34m\u001b[0m\u001b[0;34m\u001b[0m\u001b[0m\n\u001b[0;32m----> 7\u001b[0;31m   \u001b[0mn\u001b[0m \u001b[0;34m=\u001b[0m \u001b[0mnext\u001b[0m\u001b[0;34m(\u001b[0m\u001b[0mtrain_batch_generator\u001b[0m\u001b[0;34m)\u001b[0m\u001b[0;34m\u001b[0m\u001b[0;34m\u001b[0m\u001b[0m\n\u001b[0m\u001b[1;32m      8\u001b[0m   \u001b[0mprint\u001b[0m\u001b[0;34m(\u001b[0m\u001b[0mn\u001b[0m\u001b[0;34m[\u001b[0m\u001b[0;36m0\u001b[0m\u001b[0;34m]\u001b[0m\u001b[0;34m.\u001b[0m\u001b[0mshape\u001b[0m\u001b[0;34m)\u001b[0m\u001b[0;34m\u001b[0m\u001b[0;34m\u001b[0m\u001b[0m\n",
            "\u001b[0;31mStopIteration\u001b[0m: "
          ]
        }
      ]
    },
    {
      "cell_type": "code",
      "execution_count": 19,
      "outputs": [
        {
          "output_type": "error",
          "ename": "TypeError",
          "evalue": "ignored",
          "traceback": [
            "\u001b[0;31m---------------------------------------------------------------------------\u001b[0m",
            "\u001b[0;31mTypeError\u001b[0m                                 Traceback (most recent call last)",
            "\u001b[0;32m<ipython-input-19-bfb677a2b81f>\u001b[0m in \u001b[0;36m<cell line: 8>\u001b[0;34m()\u001b[0m\n\u001b[1;32m      6\u001b[0m \u001b[0mtest_batch_generator\u001b[0m \u001b[0;34m=\u001b[0m \u001b[0mbatch_test\u001b[0m\u001b[0;34m(\u001b[0m\u001b[0mbatch_size\u001b[0m\u001b[0;34m)\u001b[0m\u001b[0;34m\u001b[0m\u001b[0;34m\u001b[0m\u001b[0m\n\u001b[1;32m      7\u001b[0m \u001b[0;34m\u001b[0m\u001b[0m\n\u001b[0;32m----> 8\u001b[0;31m \u001b[0mtrain_dataset\u001b[0m \u001b[0;34m=\u001b[0m \u001b[0mtf\u001b[0m\u001b[0;34m.\u001b[0m\u001b[0mdata\u001b[0m\u001b[0;34m.\u001b[0m\u001b[0mDataset\u001b[0m\u001b[0;34m.\u001b[0m\u001b[0mfrom_generator\u001b[0m\u001b[0;34m(\u001b[0m\u001b[0mtrain_batch_generator\u001b[0m\u001b[0;34m)\u001b[0m\u001b[0;34m\u001b[0m\u001b[0;34m\u001b[0m\u001b[0m\n\u001b[0m\u001b[1;32m      9\u001b[0m \u001b[0mtest_dataset\u001b[0m \u001b[0;34m=\u001b[0m \u001b[0mtf\u001b[0m\u001b[0;34m.\u001b[0m\u001b[0mdata\u001b[0m\u001b[0;34m.\u001b[0m\u001b[0mDataset\u001b[0m\u001b[0;34m.\u001b[0m\u001b[0mfrom_generator\u001b[0m\u001b[0;34m(\u001b[0m\u001b[0mtest_batch_generator\u001b[0m\u001b[0;34m)\u001b[0m\u001b[0;34m\u001b[0m\u001b[0;34m\u001b[0m\u001b[0m\n\u001b[1;32m     10\u001b[0m \u001b[0;34m\u001b[0m\u001b[0m\n",
            "\u001b[0;32m/usr/local/lib/python3.10/dist-packages/tensorflow/python/util/deprecation.py\u001b[0m in \u001b[0;36mnew_func\u001b[0;34m(*args, **kwargs)\u001b[0m\n\u001b[1;32m    574\u001b[0m                 \u001b[0;34m'in a future version'\u001b[0m \u001b[0;32mif\u001b[0m \u001b[0mdate\u001b[0m \u001b[0;32mis\u001b[0m \u001b[0;32mNone\u001b[0m \u001b[0;32melse\u001b[0m \u001b[0;34m(\u001b[0m\u001b[0;34m'after %s'\u001b[0m \u001b[0;34m%\u001b[0m \u001b[0mdate\u001b[0m\u001b[0;34m)\u001b[0m\u001b[0;34m,\u001b[0m\u001b[0;34m\u001b[0m\u001b[0;34m\u001b[0m\u001b[0m\n\u001b[1;32m    575\u001b[0m                 instructions)\n\u001b[0;32m--> 576\u001b[0;31m       \u001b[0;32mreturn\u001b[0m \u001b[0mfunc\u001b[0m\u001b[0;34m(\u001b[0m\u001b[0;34m*\u001b[0m\u001b[0margs\u001b[0m\u001b[0;34m,\u001b[0m \u001b[0;34m**\u001b[0m\u001b[0mkwargs\u001b[0m\u001b[0;34m)\u001b[0m\u001b[0;34m\u001b[0m\u001b[0;34m\u001b[0m\u001b[0m\n\u001b[0m\u001b[1;32m    577\u001b[0m \u001b[0;34m\u001b[0m\u001b[0m\n\u001b[1;32m    578\u001b[0m     doc = _add_deprecated_arg_notice_to_docstring(\n",
            "\u001b[0;32m/usr/local/lib/python3.10/dist-packages/tensorflow/python/data/ops/dataset_ops.py\u001b[0m in \u001b[0;36mfrom_generator\u001b[0;34m(generator, output_types, output_shapes, args, output_signature, name)\u001b[0m\n\u001b[1;32m    968\u001b[0m     \u001b[0;31m# pylint: disable=g-import-not-at-top,protected-access\u001b[0m\u001b[0;34m\u001b[0m\u001b[0;34m\u001b[0m\u001b[0m\n\u001b[1;32m    969\u001b[0m     \u001b[0;32mfrom\u001b[0m \u001b[0mtensorflow\u001b[0m\u001b[0;34m.\u001b[0m\u001b[0mpython\u001b[0m\u001b[0;34m.\u001b[0m\u001b[0mdata\u001b[0m\u001b[0;34m.\u001b[0m\u001b[0mops\u001b[0m \u001b[0;32mimport\u001b[0m \u001b[0mfrom_generator_op\u001b[0m\u001b[0;34m\u001b[0m\u001b[0;34m\u001b[0m\u001b[0m\n\u001b[0;32m--> 970\u001b[0;31m     return from_generator_op._from_generator(generator, output_types,\n\u001b[0m\u001b[1;32m    971\u001b[0m                                              \u001b[0moutput_shapes\u001b[0m\u001b[0;34m,\u001b[0m \u001b[0margs\u001b[0m\u001b[0;34m,\u001b[0m\u001b[0;34m\u001b[0m\u001b[0;34m\u001b[0m\u001b[0m\n\u001b[1;32m    972\u001b[0m                                              output_signature, name)\n",
            "\u001b[0;32m/usr/local/lib/python3.10/dist-packages/tensorflow/python/data/ops/from_generator_op.py\u001b[0m in \u001b[0;36m_from_generator\u001b[0;34m(generator, output_types, output_shapes, args, output_signature, name)\u001b[0m\n\u001b[1;32m    111\u001b[0m   \"\"\"\n\u001b[1;32m    112\u001b[0m   \u001b[0;32mif\u001b[0m \u001b[0;32mnot\u001b[0m \u001b[0mcallable\u001b[0m\u001b[0;34m(\u001b[0m\u001b[0mgenerator\u001b[0m\u001b[0;34m)\u001b[0m\u001b[0;34m:\u001b[0m\u001b[0;34m\u001b[0m\u001b[0;34m\u001b[0m\u001b[0m\n\u001b[0;32m--> 113\u001b[0;31m     \u001b[0;32mraise\u001b[0m \u001b[0mTypeError\u001b[0m\u001b[0;34m(\u001b[0m\u001b[0;34m\"`generator` must be a Python callable.\"\u001b[0m\u001b[0;34m)\u001b[0m\u001b[0;34m\u001b[0m\u001b[0;34m\u001b[0m\u001b[0m\n\u001b[0m\u001b[1;32m    114\u001b[0m \u001b[0;34m\u001b[0m\u001b[0m\n\u001b[1;32m    115\u001b[0m   \u001b[0;32mif\u001b[0m \u001b[0moutput_signature\u001b[0m \u001b[0;32mis\u001b[0m \u001b[0;32mnot\u001b[0m \u001b[0;32mNone\u001b[0m\u001b[0;34m:\u001b[0m\u001b[0;34m\u001b[0m\u001b[0;34m\u001b[0m\u001b[0m\n",
            "\u001b[0;31mTypeError\u001b[0m: `generator` must be a Python callable."
          ]
        }
      ],
      "source": [
        "# Train the model\n",
        "\n",
        "batch_size = 32\n",
        "\n",
        "train_batch_generator = batch_train(batch_size)\n",
        "test_batch_generator = batch_test(batch_size)\n",
        "\n",
        "train_dataset = tf.data.Dataset.from_generator(train_batch_generator)\n",
        "test_dataset = tf.data.Dataset.from_generator(test_batch_generator)\n",
        "\n",
        "history = model.fit(train_dataset.repeat(10), epochs=10,\n",
        "                    validation_data=test_dataset.repeat(10),\n",
        "                    steps_per_epoch=n_train // batch_size,\n",
        "                    validation_steps=n_test // batch_size,\n",
        "                    callbacks=[early_stopping])"
      ],
      "metadata": {
        "pycharm": {
          "name": "#%%\n"
        },
        "id": "X6YMK7uyInpY",
        "outputId": "10cb68e1-0905-4cee-9ce4-d323a730e8c4",
        "colab": {
          "base_uri": "https://localhost:8080/",
          "height": 407
        }
      }
    },
    {
      "cell_type": "code",
      "execution_count": 13,
      "outputs": [
        {
          "output_type": "display_data",
          "data": {
            "text/plain": [
              "<Figure size 640x480 with 1 Axes>"
            ],
            "image/png": "[encoded data removed]"
          },
          "metadata": {}
        }
      ],
      "source": [
        "# Plot metrics\n",
        "plt.plot(history.history['accuracy'], label='accuracy')\n",
        "plt.plot(history.history['val_accuracy'], label='val_accuracy')\n",
        "plt.plot(history.history['val_precision'], label='val_precision')\n",
        "plt.plot(history.history['val_recall'], label='val_recall')\n",
        "plt.xlabel('Epoch')\n",
        "plt.ylabel('Metrics')\n",
        "plt.ylim([0.5, 1])\n",
        "plt.legend(loc='lower right')\n",
        "plt.show()"
      ],
      "metadata": {
        "pycharm": {
          "name": "#%%\n"
        },
        "id": "7P6iyUVSInpZ",
        "outputId": "38f1c762-dfd2-4f47-be76-085eba3bca77",
        "colab": {
          "base_uri": "https://localhost:8080/",
          "height": 455
        }
      }
    },
    {
      "cell_type": "code",
      "execution_count": 14,
      "outputs": [
        {
          "output_type": "error",
          "ename": "NameError",
          "evalue": "ignored",
          "traceback": [
            "\u001b[0;31m---------------------------------------------------------------------------\u001b[0m",
            "\u001b[0;31mNameError\u001b[0m                                 Traceback (most recent call last)",
            "\u001b[0;32m<ipython-input-14-6d6dbeeeda9c>\u001b[0m in \u001b[0;36m<cell line: 2>\u001b[0;34m()\u001b[0m\n\u001b[1;32m      1\u001b[0m \u001b[0;31m# Evaluate the model\u001b[0m\u001b[0;34m\u001b[0m\u001b[0;34m\u001b[0m\u001b[0m\n\u001b[0;32m----> 2\u001b[0;31m \u001b[0mtest_loss\u001b[0m\u001b[0;34m,\u001b[0m \u001b[0mtest_acc\u001b[0m\u001b[0;34m,\u001b[0m \u001b[0mtest_precision\u001b[0m\u001b[0;34m,\u001b[0m \u001b[0mtest_recall\u001b[0m \u001b[0;34m=\u001b[0m \u001b[0mmodel\u001b[0m\u001b[0;34m.\u001b[0m\u001b[0mevaluate\u001b[0m\u001b[0;34m(\u001b[0m\u001b[0mtest_images\u001b[0m\u001b[0;34m,\u001b[0m \u001b[0mtest_labels\u001b[0m\u001b[0;34m,\u001b[0m \u001b[0mverbose\u001b[0m\u001b[0;34m=\u001b[0m\u001b[0;36m2\u001b[0m\u001b[0;34m)\u001b[0m\u001b[0;34m\u001b[0m\u001b[0;34m\u001b[0m\u001b[0m\n\u001b[0m\u001b[1;32m      3\u001b[0m \u001b[0mtest_f1_score\u001b[0m \u001b[0;34m=\u001b[0m \u001b[0;36m2\u001b[0m \u001b[0;34m*\u001b[0m \u001b[0;34m(\u001b[0m\u001b[0mtest_precision\u001b[0m \u001b[0;34m*\u001b[0m \u001b[0mtest_recall\u001b[0m\u001b[0;34m)\u001b[0m \u001b[0;34m/\u001b[0m \u001b[0;34m(\u001b[0m\u001b[0mtest_precision\u001b[0m \u001b[0;34m+\u001b[0m \u001b[0mtest_recall\u001b[0m\u001b[0;34m)\u001b[0m\u001b[0;34m\u001b[0m\u001b[0;34m\u001b[0m\u001b[0m\n\u001b[1;32m      4\u001b[0m \u001b[0mprint\u001b[0m\u001b[0;34m(\u001b[0m\u001b[0;34m\"test accuracy:\"\u001b[0m\u001b[0;34m,\u001b[0m \u001b[0mtest_acc\u001b[0m\u001b[0;34m)\u001b[0m\u001b[0;34m\u001b[0m\u001b[0;34m\u001b[0m\u001b[0m\n\u001b[1;32m      5\u001b[0m \u001b[0mprint\u001b[0m\u001b[0;34m(\u001b[0m\u001b[0;34m\"test precision:\"\u001b[0m\u001b[0;34m,\u001b[0m \u001b[0mtest_precision\u001b[0m\u001b[0;34m)\u001b[0m\u001b[0;34m\u001b[0m\u001b[0;34m\u001b[0m\u001b[0m\n",
            "\u001b[0;31mNameError\u001b[0m: name 'test_images' is not defined"
          ]
        }
      ],
      "source": [
        "# Evaluate the model\n",
        "test_loss, test_acc, test_precision, test_recall = model.evaluate(test_images, test_labels, verbose=2)\n",
        "test_f1_score = 2 * (test_precision * test_recall) / (test_precision + test_recall)\n",
        "print(\"test accuracy:\", test_acc)\n",
        "print(\"test precision:\", test_precision)\n",
        "print(\"test recall:\", test_recall)\n",
        "print(\"test F1-score:\", test_f1_score)"
      ],
      "metadata": {
        "pycharm": {
          "name": "#%%\n"
        },
        "id": "h9q7iwO7InpZ",
        "outputId": "fbe3a5a2-4696-4996-f302-a58ae6a1afb6",
        "colab": {
          "base_uri": "https://localhost:8080/",
          "height": 240
        }
      }
    }
  ],
  "metadata": {
    "kernelspec": {
      "display_name": "Python 3",
      "language": "python",
      "name": "python3"
    },
    "language_info": {
      "codemirror_mode": {
        "name": "ipython",
        "version": 2
      },
      "file_extension": ".py",
      "mimetype": "text/x-python",
      "name": "python",
      "nbconvert_exporter": "python",
      "pygments_lexer": "ipython2",
      "version": "2.7.6"
    },
    "colab": {
      "provenance": [],
      "include_colab_link": true
    }
  },
  "nbformat": 4,
  "nbformat_minor": 0
}